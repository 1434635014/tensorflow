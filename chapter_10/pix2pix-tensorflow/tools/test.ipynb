{
 "cells": [
  {
   "cell_type": "code",
   "execution_count": 5,
   "metadata": {
    "collapsed": true
   },
   "outputs": [],
   "source": [
    "import tensorflow as tf\n",
    "import tfimage as im"
   ]
  },
  {
   "cell_type": "code",
   "execution_count": 22,
   "metadata": {
    "collapsed": true
   },
   "outputs": [],
   "source": [
    "scale = 4"
   ]
  },
  {
   "cell_type": "code",
   "execution_count": 31,
   "metadata": {},
   "outputs": [],
   "source": [
    "with tf.Session() as sess:\n",
    "    src = im.load('./0370031790.jpg')\n",
    "    height, width, _ = src.shape\n",
    "    height_down = height // scale\n",
    "    width_down = width // scale\n",
    "    dst = im.downscale(images=src, size=[height_down, width_down])\n",
    "    dst = im.upscale(images=dst, size=[height, width])"
   ]
  },
  {
   "cell_type": "code",
   "execution_count": null,
   "metadata": {
    "collapsed": true
   },
   "outputs": [],
   "source": [
    "\n",
    "    height, width, _ = src.shape\n",
    "    height_down = height // scale\n",
    "    width_down = width // scale\n",
    "    dst = im.downscale(images=src, size=[height_down, width_down])\n",
    "    dst = im.upscale(images=dst, size=[height, width])"
   ]
  }
 ],
 "metadata": {
  "kernelspec": {
   "display_name": "Python [tf1.2rc1]",
   "language": "python",
   "name": "Python [tf1.2rc1]"
  },
  "language_info": {
   "codemirror_mode": {
    "name": "ipython",
    "version": 2
   },
   "file_extension": ".py",
   "mimetype": "text/x-python",
   "name": "python",
   "nbconvert_exporter": "python",
   "pygments_lexer": "ipython2",
   "version": "2.7.13"
  }
 },
 "nbformat": 4,
 "nbformat_minor": 2
}
